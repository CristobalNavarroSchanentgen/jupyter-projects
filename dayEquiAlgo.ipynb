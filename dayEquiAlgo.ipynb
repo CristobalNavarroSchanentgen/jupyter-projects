{
 "cells": [
  {
   "cell_type": "markdown",
   "id": "28054377",
   "metadata": {},
   "source": [
    "# DAY EQUILIBRIUM ALGO"
   ]
  },
  {
   "cell_type": "markdown",
   "id": "0e71abef",
   "metadata": {},
   "source": [
    "## ACTIVATORS"
   ]
  },
  {
   "cell_type": "markdown",
   "id": "60797542",
   "metadata": {},
   "source": [
    "### returns the effect of an excitator on excitation level"
   ]
  },
  {
   "cell_type": "code",
   "execution_count": 7,
   "id": "d314de3b",
   "metadata": {},
   "outputs": [],
   "source": [
    "def exEnvActivators(a, b):\n",
    "    level = b\n",
    "    exAdd = {'conflicts': 1, 'intuition': 1, 'absorbtion': 1, 'situation': 1, 'rien': 0, 'cafe': 1}\n",
    "    level = level + exAdd[a]\n",
    "    return level"
   ]
  },
  {
   "cell_type": "markdown",
   "id": "1a4fe3e9",
   "metadata": {},
   "source": [
    "### returns the effect of an inhibitor on inhibition level"
   ]
  },
  {
   "cell_type": "code",
   "execution_count": 8,
   "id": "3be06f45",
   "metadata": {},
   "outputs": [],
   "source": [
    "def inEnvActivators(a, b):\n",
    "    level = b\n",
    "    exAdd = {'froid': 1, 'sport': 1, 'rien': 0, 'seresta' : 1, 'alcool': 1}\n",
    "    level = level + exAdd[a]\n",
    "    return level"
   ]
  },
  {
   "cell_type": "markdown",
   "id": "9b64dfda",
   "metadata": {},
   "source": [
    "## REGULATORS"
   ]
  },
  {
   "cell_type": "markdown",
   "id": "09bf2acc",
   "metadata": {},
   "source": [
    "### returns effect of basic regulation on equilibrium delta"
   ]
  },
  {
   "cell_type": "code",
   "execution_count": 5,
   "id": "d912b821",
   "metadata": {},
   "outputs": [],
   "source": [
    "def regulation(eq):\n",
    "    if (eq != 0):\n",
    "        if (eq > 0):\n",
    "            return -1        \n",
    "        else:\n",
    "            return 1\n",
    "    else:\n",
    "        return 0"
   ]
  },
  {
   "cell_type": "markdown",
   "id": "6d3cc8af",
   "metadata": {},
   "source": [
    "## SIMULATION"
   ]
  },
  {
   "cell_type": "markdown",
   "id": "63ce9297",
   "metadata": {},
   "source": [
    "### returns a list of equilibrium delta"
   ]
  },
  {
   "cell_type": "code",
   "execution_count": 12,
   "id": "c8aaf0d6",
   "metadata": {},
   "outputs": [],
   "source": [
    "def jour(excDic, inhDic):\n",
    "    i = 0\n",
    "    exc = []\n",
    "    inh = []\n",
    "    eqDay = []\n",
    "    while (i < 16):\n",
    "        if (i == 0):\n",
    "            eqDay.append(0)\n",
    "            inh.append(0)\n",
    "            exc.append(0)\n",
    "            i += 1\n",
    "        else:\n",
    "            past = i - 1\n",
    "            exc.append(exEnvActivators(excDic[i], eqDay[past]) + regulation(eqDay[past]))\n",
    "            inh.append(inEnvActivators(inhDic[i], eqDay[past]) + regulation(eqDay[past]))\n",
    "            delta = exEnvActivators(excDic[i], eqDay[past]) + regulation(eqDay[past]) - inEnvActivators(inhDic[i], eqDay[past]) + regulation(eqDay[past])\n",
    "            eqDay.append(delta)\n",
    "            i += 1\n",
    "    return eqDay   "
   ]
  },
  {
   "cell_type": "markdown",
   "id": "e450b9d8",
   "metadata": {},
   "source": [
    "## DATA ENTRY"
   ]
  },
  {
   "cell_type": "markdown",
   "id": "df1f4a13",
   "metadata": {},
   "source": [
    "### enter dicts depending on the program of the day"
   ]
  },
  {
   "cell_type": "code",
   "execution_count": 24,
   "id": "7b5458cd",
   "metadata": {},
   "outputs": [],
   "source": [
    "excDicc = {1: 'conflicts', 2: 'conflicts', 3: 'conflicts', 4: 'cafe', 5: 'cafe', 6: 'intuition', 7: 'rien', 8: 'absorbtion', 9: 'absorbtion', 10: 'absorbtion', 11: 'rien', 12: 'rien', 13: 'rien', 14: 'rien', 15: 'rien', 16: 'intuition',}\n",
    "inhDicc = {1: 'froid', 2: 'sport', 3: 'rien', 4: 'rien', 5: 'rien', 6: 'seresta', 7: 'rien', 8: 'rien', 9: 'rien', 10: 'rien', 11: 'alcool', 12: 'rien', 13: 'rien', 14: 'rien', 15: 'rien', 16: 'rien',}"
   ]
  },
  {
   "cell_type": "markdown",
   "id": "2f72dd0c",
   "metadata": {},
   "source": [
    "## RUN SIMULATION"
   ]
  },
  {
   "cell_type": "markdown",
   "id": "8f3617c5",
   "metadata": {},
   "source": [
    "### runs it all"
   ]
  },
  {
   "cell_type": "code",
   "execution_count": 25,
   "id": "0d904bfd",
   "metadata": {},
   "outputs": [
    {
     "name": "stdout",
     "output_type": "stream",
     "text": [
      "16\n",
      "[0, 0, 0, 1, -1, 3, -2, 2, -1, 3, -1, 1, -2, 2, -2, 2]\n"
     ]
    }
   ],
   "source": [
    "ajd = jour(excDicc, inhDicc)\n",
    "print(len(ajd))\n",
    "print(ajd)"
   ]
  }
 ],
 "metadata": {
  "kernelspec": {
   "display_name": "Python 3 (ipykernel)",
   "language": "python",
   "name": "python3"
  },
  "language_info": {
   "codemirror_mode": {
    "name": "ipython",
    "version": 3
   },
   "file_extension": ".py",
   "mimetype": "text/x-python",
   "name": "python",
   "nbconvert_exporter": "python",
   "pygments_lexer": "ipython3",
   "version": "3.9.7"
  }
 },
 "nbformat": 4,
 "nbformat_minor": 5
}
