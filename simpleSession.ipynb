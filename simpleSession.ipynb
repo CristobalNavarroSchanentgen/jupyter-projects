{
 "cells": [
  {
   "cell_type": "markdown",
   "id": "da00b3a4",
   "metadata": {},
   "source": [
    "# SIMPLE SESSION"
   ]
  },
  {
   "cell_type": "markdown",
   "id": "5cf5269f",
   "metadata": {},
   "source": [
    "# imports"
   ]
  },
  {
   "cell_type": "code",
   "execution_count": 14,
   "id": "acbc63b5",
   "metadata": {},
   "outputs": [],
   "source": [
    "import random\n",
    "import pandas as pd\n",
    "from matplotlib import pyplot as plt"
   ]
  },
  {
   "cell_type": "markdown",
   "id": "9c0ccdc3",
   "metadata": {},
   "source": [
    "# isOnLine()"
   ]
  },
  {
   "cell_type": "code",
   "execution_count": 15,
   "id": "09b93c15",
   "metadata": {},
   "outputs": [],
   "source": [
    "def isOnLine(x, y):\n",
    "    if (x > 30) and (y > 95):\n",
    "        return True\n",
    "    else:\n",
    "        return False"
   ]
  },
  {
   "cell_type": "markdown",
   "id": "22fa55d6",
   "metadata": {},
   "source": [
    "# isWave()"
   ]
  },
  {
   "cell_type": "code",
   "execution_count": 16,
   "id": "dee58f69",
   "metadata": {},
   "outputs": [],
   "source": [
    "def isWave(i):\n",
    "    if (i % 10) == 0:\n",
    "        return True\n",
    "    else:\n",
    "        return False"
   ]
  },
  {
   "cell_type": "markdown",
   "id": "cd7a32bb",
   "metadata": {},
   "source": [
    "# takesWave()"
   ]
  },
  {
   "cell_type": "code",
   "execution_count": 17,
   "id": "3050a83d",
   "metadata": {},
   "outputs": [],
   "source": [
    "def takesWave(arg1, arg2):\n",
    "    if arg1 and arg2:\n",
    "        a = random.choice([True, False])\n",
    "        return a"
   ]
  },
  {
   "cell_type": "markdown",
   "id": "7a995df2",
   "metadata": {},
   "source": [
    "# exitWave()"
   ]
  },
  {
   "cell_type": "code",
   "execution_count": 18,
   "id": "eebf127c",
   "metadata": {},
   "outputs": [],
   "source": [
    "def exitsWave(riding, x):\n",
    "    if (riding == True):\n",
    "        #l = (1, 2, 3, 4, 5, 6, 7, 8, 9, 10)\n",
    "        a = random.random()\n",
    "        if (a < 0.95) and (x > 10):\n",
    "            return False\n",
    "        else:\n",
    "            return True"
   ]
  },
  {
   "cell_type": "markdown",
   "id": "0f3c8d6a",
   "metadata": {},
   "source": [
    "# Ymove()"
   ]
  },
  {
   "cell_type": "code",
   "execution_count": 19,
   "id": "e09acbba",
   "metadata": {},
   "outputs": [],
   "source": [
    "def Ymove(x, y, arg):\n",
    "    if (arg == True) and (y > 0) and (x > 10):\n",
    "        y = y - 4\n",
    "    else:\n",
    "        if (x > 10):\n",
    "            y = y\n",
    "        else:\n",
    "            if (y < 101):\n",
    "                y = y + 1 + 2  # rame et courant\n",
    "    return y"
   ]
  },
  {
   "cell_type": "markdown",
   "id": "987c51a5",
   "metadata": {},
   "source": [
    "# Xmove()"
   ]
  },
  {
   "cell_type": "code",
   "execution_count": 20,
   "id": "c7ea5e8b",
   "metadata": {},
   "outputs": [],
   "source": [
    "def Xmove(x, y, arg):\n",
    "    if (arg == True) and (x > 10) and (y > 0):\n",
    "        x = x - 2.5 # slide\n",
    "    else:\n",
    "        if (y > 95) and (x < 100):\n",
    "        #if isOnLine(x, y):\n",
    "            x = x + 1 # rame\n",
    "        else:\n",
    "            if (x > 10):\n",
    "                x = x - 1 # rame\n",
    "            else:\n",
    "                x = x\n",
    "    return x"
   ]
  },
  {
   "cell_type": "markdown",
   "id": "235d764e",
   "metadata": {},
   "source": [
    "# pointeur()"
   ]
  },
  {
   "cell_type": "code",
   "execution_count": 21,
   "id": "9e389602",
   "metadata": {},
   "outputs": [],
   "source": [
    "def pointeur(x, y):\n",
    "    loc = (x, y)\n",
    "    coord.append(loc)\n",
    "    X.append(x)\n",
    "    Y.append(y) "
   ]
  },
  {
   "cell_type": "markdown",
   "id": "a6bf3554",
   "metadata": {},
   "source": [
    "# runner()"
   ]
  },
  {
   "cell_type": "code",
   "execution_count": 22,
   "id": "e6153087",
   "metadata": {},
   "outputs": [],
   "source": [
    "def runner():\n",
    "    i = 0\n",
    "    x = 0\n",
    "    y = 0\n",
    "    isOnWave = [False]\n",
    "    #coord = []\n",
    "    X = []\n",
    "    Y = []\n",
    "    riding = bool\n",
    "    while i < 3601:\n",
    "        a = isOnLine(x, y)\n",
    "        b = isWave(i)\n",
    "        c = takesWave(a, b)\n",
    "        #riding = c\n",
    "        if c:\n",
    "            isOnWave.append(c)\n",
    "        exit = exitsWave(isOnWave[-1], x)\n",
    "        if (exit == True):\n",
    "            isOnWave.append(False)\n",
    "        y = Ymove(x, y, isOnWave[-1])\n",
    "        x = Xmove(x, y, isOnWave[-1])\n",
    "        #pointeur(x, y)\n",
    "        X.append(x)\n",
    "        Y.append(y)\n",
    "        i += 1\n",
    "    #return coord\n",
    "    #df = pd.DataFrame(X, Y)\n",
    "    #return df  #isOnWave\n",
    "    return [X, Y]\n",
    "    #return X\n",
    "    #return Y"
   ]
  },
  {
   "cell_type": "code",
   "execution_count": 23,
   "id": "e8f90869",
   "metadata": {},
   "outputs": [],
   "source": [
    "etape = runner()\n",
    "#etape"
   ]
  },
  {
   "cell_type": "code",
   "execution_count": 24,
   "id": "40d46dee",
   "metadata": {},
   "outputs": [],
   "source": [
    "pd.set_option('display.max_rows', None)"
   ]
  },
  {
   "cell_type": "code",
   "execution_count": 25,
   "id": "b9e9d00e",
   "metadata": {},
   "outputs": [
    {
     "data": {
      "image/png": "[encoded data removed]",
      "text/plain": [
       "<Figure size 432x288 with 1 Axes>"
      ]
     },
     "metadata": {
      "needs_background": "light"
     },
     "output_type": "display_data"
    }
   ],
   "source": [
    "plt.plot(etape[0], etape[1])\n",
    "plt.show()"
   ]
  }
 ],
 "metadata": {
  "kernelspec": {
   "display_name": "Python 3 (ipykernel)",
   "language": "python",
   "name": "python3"
  },
  "language_info": {
   "codemirror_mode": {
    "name": "ipython",
    "version": 3
   },
   "file_extension": ".py",
   "mimetype": "text/x-python",
   "name": "python",
   "nbconvert_exporter": "python",
   "pygments_lexer": "ipython3",
   "version": "3.9.7"
  }
 },
 "nbformat": 4,
 "nbformat_minor": 5
}
